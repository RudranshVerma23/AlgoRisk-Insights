{
 "cells": [
  {
   "cell_type": "code",
   "execution_count": 8,
   "metadata": {},
   "outputs": [],
   "source": [
    "import yfinance as yf\n",
    "import pandas as pd\n",
    "import numpy as np\n",
    "import matplotlib.pyplot as plt\n",
    "ticker = \"INFY\"\n",
    "\n",
    "initial_data = data"
   ]
  },
  {
   "cell_type": "code",
   "execution_count": 9,
   "metadata": {},
   "outputs": [
    {
     "name": "stderr",
     "output_type": "stream",
     "text": [
      "[*********************100%***********************]  1 of 1 completed\n",
      "\n",
      "1 Failed download:\n",
      "['INFY']: JSONDecodeError('Expecting value: line 1 column 1 (char 0)')\n"
     ]
    }
   ],
   "source": [
    "data = yf.download(ticker, start=\"2019-04-01\", end=\"2024-01-01\")"
   ]
  },
  {
   "cell_type": "code",
   "execution_count": null,
   "metadata": {},
   "outputs": [],
   "source": [
    "# def strategy (data,stop_p,take_p):\n",
    "#     buy_list.append(data.index[0])\n",
    "#     buy_index = 0\n",
    "#     netReturn = -data[\"Close\"].iloc[0] \n",
    "#     for i in range(1,len(data)):\n",
    "#         stop = (1 - stop_loss) * data[\"Close\"].iloc[buy_index]\n",
    "#         take = (1 + take_profit) * data[\"Close\"].iloc[buy_index]\n",
    "#         if (data[\"Close\"].iloc[i] <= stop or data[\"Close\"].iloc[i] >= take):\n",
    "#             sell_list.append(data.index[i])\n",
    "#             netReturn += data[\"Close\"].iloc[i]\n",
    "#             if i+1 < len(data) - 1:\n",
    "#                 buy_index = i+1\n",
    "#                 buy_list.append(data.index[buy_index])\n",
    "#                 netReturn -= data[\"Close\"].iloc[i+1]\n",
    "\n",
    "\n"
   ]
  },
  {
   "cell_type": "code",
   "execution_count": 6,
   "metadata": {},
   "outputs": [
    {
     "name": "stdout",
     "output_type": "stream",
     "text": [
      "Buy List: [Timestamp('2019-04-01 00:00:00'), Timestamp('2019-04-15 00:00:00'), Timestamp('2019-05-06 00:00:00'), Timestamp('2019-05-10 00:00:00'), Timestamp('2019-06-11 00:00:00'), Timestamp('2019-06-14 00:00:00'), Timestamp('2019-07-15 00:00:00'), Timestamp('2019-08-02 00:00:00'), Timestamp('2019-08-15 00:00:00'), Timestamp('2019-08-30 00:00:00'), Timestamp('2019-09-06 00:00:00'), Timestamp('2019-09-23 00:00:00'), Timestamp('2019-10-15 00:00:00'), Timestamp('2019-10-22 00:00:00'), Timestamp('2019-11-01 00:00:00'), Timestamp('2019-11-08 00:00:00'), Timestamp('2019-12-12 00:00:00'), Timestamp('2020-01-10 00:00:00'), Timestamp('2020-01-29 00:00:00'), Timestamp('2020-02-28 00:00:00'), Timestamp('2020-03-09 00:00:00'), Timestamp('2020-03-13 00:00:00'), Timestamp('2020-03-17 00:00:00'), Timestamp('2020-03-19 00:00:00'), Timestamp('2020-03-23 00:00:00'), Timestamp('2020-03-25 00:00:00'), Timestamp('2020-03-27 00:00:00'), Timestamp('2020-04-01 00:00:00'), Timestamp('2020-04-06 00:00:00'), Timestamp('2020-04-15 00:00:00'), Timestamp('2020-04-24 00:00:00'), Timestamp('2020-04-30 00:00:00'), Timestamp('2020-05-05 00:00:00'), Timestamp('2020-05-14 00:00:00'), Timestamp('2020-05-26 00:00:00'), Timestamp('2020-06-09 00:00:00'), Timestamp('2020-06-12 00:00:00'), Timestamp('2020-06-29 00:00:00'), Timestamp('2020-07-07 00:00:00'), Timestamp('2020-07-16 00:00:00'), Timestamp('2020-07-30 00:00:00'), Timestamp('2020-08-05 00:00:00'), Timestamp('2020-09-15 00:00:00'), Timestamp('2020-09-25 00:00:00'), Timestamp('2020-10-08 00:00:00'), Timestamp('2020-10-13 00:00:00'), Timestamp('2020-10-15 00:00:00'), Timestamp('2020-10-27 00:00:00'), Timestamp('2020-10-29 00:00:00'), Timestamp('2020-11-06 00:00:00'), Timestamp('2020-11-11 00:00:00'), Timestamp('2020-12-07 00:00:00'), Timestamp('2020-12-23 00:00:00'), Timestamp('2021-01-06 00:00:00'), Timestamp('2021-01-11 00:00:00'), Timestamp('2021-01-15 00:00:00'), Timestamp('2021-01-28 00:00:00'), Timestamp('2021-02-01 00:00:00'), Timestamp('2021-03-04 00:00:00'), Timestamp('2021-03-12 00:00:00'), Timestamp('2021-03-19 00:00:00'), Timestamp('2021-04-12 00:00:00'), Timestamp('2021-04-14 00:00:00'), Timestamp('2021-04-19 00:00:00'), Timestamp('2021-04-23 00:00:00'), Timestamp('2021-05-21 00:00:00'), Timestamp('2021-06-09 00:00:00'), Timestamp('2021-06-14 00:00:00'), Timestamp('2021-06-29 00:00:00'), Timestamp('2021-07-02 00:00:00'), Timestamp('2021-07-20 00:00:00'), Timestamp('2021-07-29 00:00:00'), Timestamp('2021-08-04 00:00:00'), Timestamp('2021-08-16 00:00:00'), Timestamp('2021-09-10 00:00:00'), Timestamp('2021-09-29 00:00:00'), Timestamp('2021-10-11 00:00:00'), Timestamp('2021-10-15 00:00:00'), Timestamp('2021-10-27 00:00:00'), Timestamp('2021-11-15 00:00:00'), Timestamp('2021-11-23 00:00:00'), Timestamp('2021-11-29 00:00:00'), Timestamp('2021-12-17 00:00:00'), Timestamp('2021-12-28 00:00:00'), Timestamp('2022-01-06 00:00:00'), Timestamp('2022-01-13 00:00:00'), Timestamp('2022-01-20 00:00:00'), Timestamp('2022-01-25 00:00:00'), Timestamp('2022-01-28 00:00:00'), Timestamp('2022-02-01 00:00:00'), Timestamp('2022-02-04 00:00:00'), Timestamp('2022-02-14 00:00:00'), Timestamp('2022-03-09 00:00:00'), Timestamp('2022-03-17 00:00:00'), Timestamp('2022-04-07 00:00:00'), Timestamp('2022-04-12 00:00:00'), Timestamp('2022-04-14 00:00:00'), Timestamp('2022-05-02 00:00:00'), Timestamp('2022-05-12 00:00:00'), Timestamp('2022-05-17 00:00:00'), Timestamp('2022-05-19 00:00:00'), Timestamp('2022-05-26 00:00:00'), Timestamp('2022-06-03 00:00:00'), Timestamp('2022-06-10 00:00:00'), Timestamp('2022-06-14 00:00:00'), Timestamp('2022-06-17 00:00:00'), Timestamp('2022-06-22 00:00:00'), Timestamp('2022-07-08 00:00:00'), Timestamp('2022-07-12 00:00:00'), Timestamp('2022-07-22 00:00:00'), Timestamp('2022-07-27 00:00:00'), Timestamp('2022-08-01 00:00:00'), Timestamp('2022-08-26 00:00:00'), Timestamp('2022-09-06 00:00:00'), Timestamp('2022-09-12 00:00:00'), Timestamp('2022-09-14 00:00:00'), Timestamp('2022-09-19 00:00:00'), Timestamp('2022-09-21 00:00:00'), Timestamp('2022-09-26 00:00:00'), Timestamp('2022-10-05 00:00:00'), Timestamp('2022-10-10 00:00:00'), Timestamp('2022-10-12 00:00:00'), Timestamp('2022-10-14 00:00:00'), Timestamp('2022-10-26 00:00:00'), Timestamp('2022-11-04 00:00:00'), Timestamp('2022-11-11 00:00:00'), Timestamp('2022-11-22 00:00:00'), Timestamp('2022-12-01 00:00:00'), Timestamp('2022-12-06 00:00:00'), Timestamp('2022-12-12 00:00:00'), Timestamp('2022-12-19 00:00:00'), Timestamp('2023-01-18 00:00:00'), Timestamp('2023-02-03 00:00:00'), Timestamp('2023-02-07 00:00:00'), Timestamp('2023-02-23 00:00:00'), Timestamp('2023-02-28 00:00:00'), Timestamp('2023-03-14 00:00:00'), Timestamp('2023-03-16 00:00:00'), Timestamp('2023-03-23 00:00:00'), Timestamp('2023-04-14 00:00:00'), Timestamp('2023-04-20 00:00:00'), Timestamp('2023-05-01 00:00:00'), Timestamp('2023-05-12 00:00:00'), Timestamp('2023-05-30 00:00:00'), Timestamp('2023-06-06 00:00:00'), Timestamp('2023-06-26 00:00:00'), Timestamp('2023-07-05 00:00:00'), Timestamp('2023-07-17 00:00:00'), Timestamp('2023-07-21 00:00:00'), Timestamp('2023-08-16 00:00:00'), Timestamp('2023-08-21 00:00:00'), Timestamp('2023-09-06 00:00:00'), Timestamp('2023-09-29 00:00:00'), Timestamp('2023-10-11 00:00:00'), Timestamp('2023-10-13 00:00:00'), Timestamp('2023-10-26 00:00:00'), Timestamp('2023-11-16 00:00:00'), Timestamp('2023-12-15 00:00:00')]\n",
      "Sell list: [Timestamp('2019-04-12 00:00:00'), Timestamp('2019-05-03 00:00:00'), Timestamp('2019-05-09 00:00:00'), Timestamp('2019-06-10 00:00:00'), Timestamp('2019-06-13 00:00:00'), Timestamp('2019-07-12 00:00:00'), Timestamp('2019-08-01 00:00:00'), Timestamp('2019-08-14 00:00:00'), Timestamp('2019-08-29 00:00:00'), Timestamp('2019-09-05 00:00:00'), Timestamp('2019-09-20 00:00:00'), Timestamp('2019-10-14 00:00:00'), Timestamp('2019-10-21 00:00:00'), Timestamp('2019-10-31 00:00:00'), Timestamp('2019-11-07 00:00:00'), Timestamp('2019-12-11 00:00:00'), Timestamp('2020-01-09 00:00:00'), Timestamp('2020-01-28 00:00:00'), Timestamp('2020-02-27 00:00:00'), Timestamp('2020-03-06 00:00:00'), Timestamp('2020-03-12 00:00:00'), Timestamp('2020-03-16 00:00:00'), Timestamp('2020-03-18 00:00:00'), Timestamp('2020-03-20 00:00:00'), Timestamp('2020-03-24 00:00:00'), Timestamp('2020-03-26 00:00:00'), Timestamp('2020-03-31 00:00:00'), Timestamp('2020-04-03 00:00:00'), Timestamp('2020-04-14 00:00:00'), Timestamp('2020-04-23 00:00:00'), Timestamp('2020-04-29 00:00:00'), Timestamp('2020-05-04 00:00:00'), Timestamp('2020-05-13 00:00:00'), Timestamp('2020-05-22 00:00:00'), Timestamp('2020-06-08 00:00:00'), Timestamp('2020-06-11 00:00:00'), Timestamp('2020-06-26 00:00:00'), Timestamp('2020-07-06 00:00:00'), Timestamp('2020-07-15 00:00:00'), Timestamp('2020-07-29 00:00:00'), Timestamp('2020-08-04 00:00:00'), Timestamp('2020-09-14 00:00:00'), Timestamp('2020-09-24 00:00:00'), Timestamp('2020-10-07 00:00:00'), Timestamp('2020-10-12 00:00:00'), Timestamp('2020-10-14 00:00:00'), Timestamp('2020-10-26 00:00:00'), Timestamp('2020-10-28 00:00:00'), Timestamp('2020-11-05 00:00:00'), Timestamp('2020-11-10 00:00:00'), Timestamp('2020-12-04 00:00:00'), Timestamp('2020-12-22 00:00:00'), Timestamp('2021-01-05 00:00:00'), Timestamp('2021-01-08 00:00:00'), Timestamp('2021-01-14 00:00:00'), Timestamp('2021-01-27 00:00:00'), Timestamp('2021-01-29 00:00:00'), Timestamp('2021-03-03 00:00:00'), Timestamp('2021-03-11 00:00:00'), Timestamp('2021-03-18 00:00:00'), Timestamp('2021-04-09 00:00:00'), Timestamp('2021-04-13 00:00:00'), Timestamp('2021-04-16 00:00:00'), Timestamp('2021-04-22 00:00:00'), Timestamp('2021-05-20 00:00:00'), Timestamp('2021-06-08 00:00:00'), Timestamp('2021-06-11 00:00:00'), Timestamp('2021-06-28 00:00:00'), Timestamp('2021-07-01 00:00:00'), Timestamp('2021-07-19 00:00:00'), Timestamp('2021-07-28 00:00:00'), Timestamp('2021-08-03 00:00:00'), Timestamp('2021-08-13 00:00:00'), Timestamp('2021-09-09 00:00:00'), Timestamp('2021-09-28 00:00:00'), Timestamp('2021-10-08 00:00:00'), Timestamp('2021-10-14 00:00:00'), Timestamp('2021-10-26 00:00:00'), Timestamp('2021-11-12 00:00:00'), Timestamp('2021-11-22 00:00:00'), Timestamp('2021-11-26 00:00:00'), Timestamp('2021-12-16 00:00:00'), Timestamp('2021-12-27 00:00:00'), Timestamp('2022-01-05 00:00:00'), Timestamp('2022-01-12 00:00:00'), Timestamp('2022-01-19 00:00:00'), Timestamp('2022-01-24 00:00:00'), Timestamp('2022-01-27 00:00:00'), Timestamp('2022-01-31 00:00:00'), Timestamp('2022-02-03 00:00:00'), Timestamp('2022-02-11 00:00:00'), Timestamp('2022-03-08 00:00:00'), Timestamp('2022-03-16 00:00:00'), Timestamp('2022-04-06 00:00:00'), Timestamp('2022-04-11 00:00:00'), Timestamp('2022-04-13 00:00:00'), Timestamp('2022-04-29 00:00:00'), Timestamp('2022-05-11 00:00:00'), Timestamp('2022-05-16 00:00:00'), Timestamp('2022-05-18 00:00:00'), Timestamp('2022-05-25 00:00:00'), Timestamp('2022-06-02 00:00:00'), Timestamp('2022-06-09 00:00:00'), Timestamp('2022-06-13 00:00:00'), Timestamp('2022-06-16 00:00:00'), Timestamp('2022-06-21 00:00:00'), Timestamp('2022-07-07 00:00:00'), Timestamp('2022-07-11 00:00:00'), Timestamp('2022-07-21 00:00:00'), Timestamp('2022-07-26 00:00:00'), Timestamp('2022-07-29 00:00:00'), Timestamp('2022-08-25 00:00:00'), Timestamp('2022-09-02 00:00:00'), Timestamp('2022-09-09 00:00:00'), Timestamp('2022-09-13 00:00:00'), Timestamp('2022-09-16 00:00:00'), Timestamp('2022-09-20 00:00:00'), Timestamp('2022-09-23 00:00:00'), Timestamp('2022-10-04 00:00:00'), Timestamp('2022-10-07 00:00:00'), Timestamp('2022-10-11 00:00:00'), Timestamp('2022-10-13 00:00:00'), Timestamp('2022-10-25 00:00:00'), Timestamp('2022-11-03 00:00:00'), Timestamp('2022-11-10 00:00:00'), Timestamp('2022-11-21 00:00:00'), Timestamp('2022-11-30 00:00:00'), Timestamp('2022-12-05 00:00:00'), Timestamp('2022-12-09 00:00:00'), Timestamp('2022-12-16 00:00:00'), Timestamp('2023-01-17 00:00:00'), Timestamp('2023-02-02 00:00:00'), Timestamp('2023-02-06 00:00:00'), Timestamp('2023-02-22 00:00:00'), Timestamp('2023-02-27 00:00:00'), Timestamp('2023-03-13 00:00:00'), Timestamp('2023-03-15 00:00:00'), Timestamp('2023-03-22 00:00:00'), Timestamp('2023-04-13 00:00:00'), Timestamp('2023-04-19 00:00:00'), Timestamp('2023-04-28 00:00:00'), Timestamp('2023-05-11 00:00:00'), Timestamp('2023-05-26 00:00:00'), Timestamp('2023-06-05 00:00:00'), Timestamp('2023-06-23 00:00:00'), Timestamp('2023-07-03 00:00:00'), Timestamp('2023-07-14 00:00:00'), Timestamp('2023-07-20 00:00:00'), Timestamp('2023-08-15 00:00:00'), Timestamp('2023-08-18 00:00:00'), Timestamp('2023-09-05 00:00:00'), Timestamp('2023-09-28 00:00:00'), Timestamp('2023-10-10 00:00:00'), Timestamp('2023-10-12 00:00:00'), Timestamp('2023-10-25 00:00:00'), Timestamp('2023-11-15 00:00:00'), Timestamp('2023-12-14 00:00:00')]\n",
      "Net Return = -11.769998550415039\n"
     ]
    }
   ],
   "source": [
    "strategy(data,2,4)"
   ]
  },
  {
   "cell_type": "code",
   "execution_count": null,
   "metadata": {},
   "outputs": [],
   "source": [
    "def strategy(data, stop_p, take_p):\n",
    "    stop_loss = stop_p / 100\n",
    "    take_profit = take_p / 100\n",
    "    buy_list = []\n",
    "    sell_list = []\n",
    "    in_trade = False\n",
    "    netReturn = 0\n",
    "    buy_index = 0\n",
    "    i = 0\n",
    "\n",
    "    while i < len(data):\n",
    "        if not in_trade:\n",
    "            buy_index = i\n",
    "            buy_price = data[\"Close\"].iloc[i]\n",
    "            buy_list.append(data.index[i])\n",
    "            in_trade = True\n",
    "            i += 1\n",
    "        else:\n",
    "            current_price = data[\"Close\"].iloc[i]\n",
    "            if current_price <= buy_price * (1 - stop_loss) or current_price >= buy_price * (1 + take_profit):\n",
    "                sell_list.append(data.index[i])\n",
    "                netReturn += current_price - buy_price\n",
    "                in_trade = False\n",
    "                i += 1  # start next trade from next day\n",
    "            else:\n",
    "                i += 1\n",
    "\n",
    "    # If still in trade at the end, sell at last available price\n",
    "    if in_trade:\n",
    "        sell_list.append(data.index[-1])\n",
    "        netReturn += data[\"Close\"].iloc[-1] - buy_price\n",
    "\n",
    "    print(\"Buy List:\", buy_list)\n",
    "    print(\"Sell List:\", sell_list)\n",
    "    print(\"Net Return =\", netReturn)"
   ]
  },
  {
   "cell_type": "code",
   "execution_count": null,
   "metadata": {},
   "outputs": [],
   "source": [
    "strategy(data, 2, 4)"
   ]
  }
 ],
 "metadata": {
  "kernelspec": {
   "display_name": "Python 3",
   "language": "python",
   "name": "python3"
  },
  "language_info": {
   "codemirror_mode": {
    "name": "ipython",
    "version": 3
   },
   "file_extension": ".py",
   "mimetype": "text/x-python",
   "name": "python",
   "nbconvert_exporter": "python",
   "pygments_lexer": "ipython3",
   "version": "3.13.1"
  }
 },
 "nbformat": 4,
 "nbformat_minor": 2
}
