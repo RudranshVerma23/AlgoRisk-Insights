{
 "cells": [
  {
   "cell_type": "markdown",
   "metadata": {},
   "source": [
    "Problem 2(a)\n",
    "Well, it depends on the market condition at that time. If the market is favourable, having correlated stocks can be an advantage, but same goes for the unfavourable case. Having uncorrelated stocks also have an advantage, it decreases our risks. So in general, having uncorrelated stocks is recommended to avoid risks."
   ]
  },
  {
   "cell_type": "markdown",
   "metadata": {},
   "source": [
    "Problem 2(b)"
   ]
  },
  {
   "cell_type": "code",
   "execution_count": 1,
   "metadata": {},
   "outputs": [
    {
     "name": "stderr",
     "output_type": "stream",
     "text": [
      "[*********************100%%**********************]  1 of 1 completed\n",
      "[*********************100%%**********************]  1 of 1 completed"
     ]
    },
    {
     "name": "stdout",
     "output_type": "stream",
     "text": [
      "Correlation coeeficient = 0.881982357818714\n"
     ]
    },
    {
     "name": "stderr",
     "output_type": "stream",
     "text": [
      "\n"
     ]
    }
   ],
   "source": [
    "#Code to find correlation coefficient between two stocks for given time frame\n",
    "import yfinance as yf\n",
    "import pandas as pd\n",
    "ticker1 = \"BAJFINANCE.NS\"\n",
    "ticker2 = \"AXISBANK.NS\"\n",
    "data1 = yf.download(ticker1, start=\"2023-04-01\", end=\"2024-03-31\")\n",
    "data2 = yf.download(ticker2, start=\"2023-04-01\", end=\"2024-03-31\")\n",
    "\n",
    "sum_x = data1[\"Close\"].sum()\n",
    "sum_xsq = (data1[\"Close\"] **2).sum()\n",
    "sum_y = data2[\"Close\"].sum()\n",
    "sum_ysq = (data2[\"Close\"] **2).sum()\n",
    "sum_xy = (data1[\"Close\"] * data2[\"Close\"]).sum()\n",
    "n = 249 #Working days in this time interval\n",
    "correlation = (n * sum_xy - sum_x * sum_y) / (((n*sum_xsq - (sum_x**2)) * (n*sum_ysq - (sum_y**2)))** 0.5)\n",
    "print(\"Correlation coeeficient =\", correlation)"
   ]
  },
  {
   "cell_type": "markdown",
   "metadata": {},
   "source": [
    "Problem 2(c)\n",
    "In this example, both belong to the same sector (i.e. banking sector) and so it is natural to get a positive correlation coefficient.\n",
    "Correlation can depend on sector of the two companies. Like in the above example the two companies were in same sector so they tend to be more correlated.\n",
    "\n",
    "It can also depend on geographic location where the two works. If, for example, the two work in places very far away, then it is possible that their correlation is lower.\n",
    "\n",
    "It can also depend on the time frame the two companies work in. For instance, if the companies work on totally different time frames then it is possible to have uncorrelation or negative correlation between them."
   ]
  }
 ],
 "metadata": {
  "kernelspec": {
   "display_name": ".venv",
   "language": "python",
   "name": "python3"
  },
  "language_info": {
   "codemirror_mode": {
    "name": "ipython",
    "version": 3
   },
   "file_extension": ".py",
   "mimetype": "text/x-python",
   "name": "python",
   "nbconvert_exporter": "python",
   "pygments_lexer": "ipython3",
   "version": "3.12.1"
  }
 },
 "nbformat": 4,
 "nbformat_minor": 2
}
