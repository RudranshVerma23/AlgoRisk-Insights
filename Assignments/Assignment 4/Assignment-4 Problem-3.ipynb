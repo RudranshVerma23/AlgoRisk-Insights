{
 "cells": [
  {
   "cell_type": "code",
   "execution_count": 8,
   "metadata": {},
   "outputs": [
    {
     "name": "stderr",
     "output_type": "stream",
     "text": [
      "[*********************100%%**********************]  1 of 1 completed\n"
     ]
    }
   ],
   "source": [
    "import yfinance as yf\n",
    "import pandas as pd\n",
    "import matplotlib.pyplot as plt\n",
    "import numpy as np\n",
    "import statsmodels\n",
    "\n",
    "\n",
    "import warnings\n",
    "warnings.filterwarnings('ignore')\n",
    "\n",
    "ticker = \"^NSEI\"\n",
    "data = yf.download(ticker, start=\"2018-01-01\", end=\"2024-01-01\")"
   ]
  },
  {
   "cell_type": "code",
   "execution_count": 9,
   "metadata": {},
   "outputs": [
    {
     "name": "stdout",
     "output_type": "stream",
     "text": [
      "ADF Statistic: 0.13285143289767753\n",
      "p-value: 0.9682337504483467\n",
      "Number of lags: 7\n",
      "Number of observations: 1469\n",
      "Critical Values: {'1%': -3.4348093353507494, '5%': -2.863509503599295, '10%': -2.5678185447142}\n"
     ]
    }
   ],
   "source": [
    "#ADF Test\n",
    "# Threshold p-value is assumed to be 0.05 (sometimes also assumed to be 0.01)\n",
    "\n",
    "from statsmodels.tsa.stattools import adfuller\n",
    "\n",
    "adftest = adfuller(data['Close'],autolag='AIC')\n",
    "print(\"ADF Statistic:\", adftest[0])\n",
    "print(\"p-value:\", adftest[1])\n",
    "print(\"Number of lags:\", adftest[2])\n",
    "print(\"Number of observations:\", adftest[3])\n",
    "print(\"Critical Values:\", adftest[4])"
   ]
  },
  {
   "cell_type": "markdown",
   "metadata": {},
   "source": [
    "Note since p-value is greater than the assumed threshold, the null hypothesis cannot be rejected and therefore the time series is not stationary.\n",
    "If p-value is less than the the threshold then we can reject the null hypothesis and conclude that the series is stationary. Lesser the ADF statistic, more the reason to reject the hypothesis (and is compared with critical values like at 1% and 5%)."
   ]
  },
  {
   "cell_type": "code",
   "execution_count": 10,
   "metadata": {},
   "outputs": [
    {
     "name": "stdout",
     "output_type": "stream",
     "text": [
      "KPSS Statistic: 5.1955078334484135\n",
      "p-value: 0.01\n",
      "Number of lags: 25\n",
      "Critical Values: {'10%': 0.347, '5%': 0.463, '2.5%': 0.574, '1%': 0.739}\n"
     ]
    }
   ],
   "source": [
    "#KPSS Test\n",
    "\n",
    "from statsmodels.tsa.stattools import kpss\n",
    "\n",
    "kpsstest = kpss(data['Close'], regression='c', nlags=\"auto\")\n",
    "print(\"KPSS Statistic:\", kpsstest[0])\n",
    "print(\"p-value:\", kpsstest[1])\n",
    "print(\"Number of lags:\", kpsstest[2])\n",
    "print(\"Critical Values:\", kpsstest[3])"
   ]
  },
  {
   "cell_type": "markdown",
   "metadata": {},
   "source": [
    "Note since p-value is less than the assumed threshold, the null hypothesis can be rejected and therefore the time series is not stationary. Furthermore, in order to reject the null hypothesis, the test statistic should be greater than the provided critical values.\n",
    "Here in KPSS Test, if p-value is greater than the the threshold then we cannot reject the null hypothesis and the series is stationary."
   ]
  },
  {
   "cell_type": "code",
   "execution_count": 11,
   "metadata": {},
   "outputs": [
    {
     "name": "stdout",
     "output_type": "stream",
     "text": [
      "        lb_stat  lb_pvalue\n",
      "1   1471.227105        0.0\n",
      "2   2934.532379        0.0\n",
      "3   4390.078653        0.0\n",
      "4   5838.280229        0.0\n",
      "5   7279.103192        0.0\n",
      "6   8712.206832        0.0\n",
      "7  10138.104821        0.0\n"
     ]
    }
   ],
   "source": [
    "from statsmodels.stats.diagnostic import acorr_ljungbox\n",
    "\n",
    "lb_test = acorr_ljungbox(data['Close'], lags=7)\n",
    "print(lb_test)"
   ]
  },
  {
   "cell_type": "markdown",
   "metadata": {},
   "source": [
    "Since p-value is less than 0.05, we can reject null hypothesis and hence say that the data are not independently distributed, i.e. they exhibit serial correlation."
   ]
  },
  {
   "cell_type": "code",
   "execution_count": 12,
   "metadata": {},
   "outputs": [
    {
     "name": "stdout",
     "output_type": "stream",
     "text": [
      "\n",
      "Granger Causality\n",
      "number of lags (no zero) 3\n",
      "ssr based F test:         F=5.3162  , p=0.0012  , df_denom=1467, df_num=3\n",
      "ssr based chi2 test:   chi2=16.0246 , p=0.0011  , df=3\n",
      "likelihood ratio test: chi2=15.9381 , p=0.0012  , df=3\n",
      "parameter F test:         F=5.3162  , p=0.0012  , df_denom=1467, df_num=3\n"
     ]
    },
    {
     "data": {
      "text/plain": [
       "{3: ({'ssr_ftest': (5.316161542771404, 0.00120698296968318, 1467.0, 3),\n",
       "   'ssr_chi2test': (16.024585100296626, 0.0011208989187401236, 3),\n",
       "   'lrtest': (15.938105702960456, 0.0011676028882839993, 3),\n",
       "   'params_ftest': (5.31616154277193, 0.0012069829696823308, 1467.0, 3.0)},\n",
       "  [<statsmodels.regression.linear_model.RegressionResultsWrapper at 0x18c180802c0>,\n",
       "   <statsmodels.regression.linear_model.RegressionResultsWrapper at 0x18c19d52e10>,\n",
       "   array([[0., 0., 0., 1., 0., 0., 0.],\n",
       "          [0., 0., 0., 0., 1., 0., 0.],\n",
       "          [0., 0., 0., 0., 0., 1., 0.]])])}"
      ]
     },
     "execution_count": 12,
     "metadata": {},
     "output_type": "execute_result"
    }
   ],
   "source": [
    "#Granger Casuality Test\n",
    "\n",
    "from statsmodels.tsa.stattools import grangercausalitytests\n",
    "\n",
    "grangercausalitytests(data[['Close','Open']], maxlag=[3])"
   ]
  },
  {
   "cell_type": "markdown",
   "metadata": {},
   "source": [
    "The F test statistic turns out to be 5.3162 and corresponding p-value is 0.0012. Since p-value < alpha (=0.05) we can reject null hypothesis of the test and conclude that knowing the time series data['Close'] is useful for predicting the value of time series data['Open'] at a later time period and vice versa."
   ]
  },
  {
   "cell_type": "code",
   "execution_count": 13,
   "metadata": {},
   "outputs": [
    {
     "data": {
      "text/plain": [
       "9.76394909527016e-05"
      ]
     },
     "execution_count": 13,
     "metadata": {},
     "output_type": "execute_result"
    }
   ],
   "source": [
    "# Durbin Watson Test\n",
    "\n",
    "from statsmodels.stats.stattools import durbin_watson\n",
    "\n",
    "dw_statistic = durbin_watson(data['Close'])\n",
    "dw_statistic"
   ]
  },
  {
   "cell_type": "markdown",
   "metadata": {},
   "source": [
    "In accordance with logic, since durbin watson statistic is very very less it is clear that the Close and Open prices are highly positively autocorrelated time series. This statistic lies between 0 and 4, 2 representing no autocorrelation."
   ]
  }
 ],
 "metadata": {
  "kernelspec": {
   "display_name": ".venv",
   "language": "python",
   "name": "python3"
  },
  "language_info": {
   "codemirror_mode": {
    "name": "ipython",
    "version": 3
   },
   "file_extension": ".py",
   "mimetype": "text/x-python",
   "name": "python",
   "nbconvert_exporter": "python",
   "pygments_lexer": "ipython3",
   "version": "3.12.1"
  }
 },
 "nbformat": 4,
 "nbformat_minor": 2
}
